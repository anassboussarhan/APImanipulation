{
  "nbformat": 4,
  "nbformat_minor": 0,
  "metadata": {
    "colab": {
      "name": "Untitled14.ipynb",
      "version": "0.3.2",
      "provenance": [],
      "collapsed_sections": [],
      "include_colab_link": true
    },
    "kernelspec": {
      "name": "python3",
      "display_name": "Python 3"
    }
  },
  "cells": [
    {
      "cell_type": "markdown",
      "metadata": {
        "id": "view-in-github",
        "colab_type": "text"
      },
      "source": [
        "<a href=\"https://colab.research.google.com/github/anassboussarhan/APImanipulation/blob/master/Untitled14.ipynb\" target=\"_parent\"><img src=\"https://colab.research.google.com/assets/colab-badge.svg\" alt=\"Open In Colab\"/></a>"
      ]
    },
    {
      "cell_type": "code",
      "metadata": {
        "id": "BRP8xWyY9quO",
        "colab_type": "code",
        "outputId": "4d70b62c-5b57-4371-8670-69e10d598a09",
        "colab": {
          "base_uri": "https://localhost:8080/",
          "height": 121
        }
      },
      "source": [
        "#Imports and global Variables\n",
        "import requests\n",
        "from requests.auth import HTTPBasicAuth\n",
        "from urllib.request import urlopen, URLError\n",
        "import json\n",
        "hostname=\"https://api.lotlinx.com/photoai/v1\"\n",
        "user=\"testaccount3\" \n",
        "password=\"bbf979ab9188\"\n",
        "links=[]\n",
        "#Get the links of the images\n",
        "while True:\n",
        "  try:\n",
        "    num = int(input(\"Please enter the numbe of images to be processed!\"))       \n",
        "  except ValueError:\n",
        "    print(\"Not an integer! Try again.\")\n",
        "    continue\n",
        "  else: \n",
        "    break\n",
        "for i in range(num):\n",
        "  links.append(input(\"Please enter the link of the image \"+str(i+1)))\n",
        "\n",
        "\n",
        "#The Task to be submitted to the API\n",
        "\n",
        "task={\n",
        "\n",
        "    \"values\":[\n",
        "\n",
        "        {\n",
        "\n",
        "            \"dealerId\":\"20182018\",\n",
        "\n",
        "            \"vehicleImageSets\":[\n",
        "\n",
        "                {\n",
        "\n",
        "                    \"id\": 123,\n",
        "\n",
        "                    \"imageSet\":[\n",
        "\n",
        " \n",
        "\n",
        "\n",
        "                        \n",
        "\n",
        "                    ]\n",
        "\n",
        "                    \n",
        "\n",
        "                }\n",
        "\n",
        "            ]\n",
        "\n",
        "        }\n",
        "\n",
        "    ]\n",
        "\n",
        "    \n",
        "\n",
        "}\n",
        "for i in range(num):\n",
        "  task[\"values\"][0][\"vehicleImageSets\"][0][\"imageSet\"].append({\"imageId\":i,\"imageUrl\":links[i]})\n",
        "#Checking for connection problems\n",
        "resp=requests.post(hostname+\"/optimize\",json=task,auth=HTTPBasicAuth(user, password))\n",
        "while(resp.status_code!=200):\n",
        "  print(\"Failed connection.\")\n",
        "  resp=requests.post(hostname+\"/optimize\",json=task,auth=HTTPBasicAuth(user, password))\n",
        "\n",
        "#Get the request token\n",
        "jsonout = resp.content.decode('utf8').replace(\"'\", '\"')\n",
        "finaljson = json.loads(jsonout)\n",
        "token=finaljson[\"values\"][0][\"token\"]  \n",
        "\n",
        "#Check for the request status\n",
        "\n",
        "status=requests.get(hostname+\"/optimize/\"+token+\"/status\",auth=HTTPBasicAuth(user, password))\n",
        "jsonout = status.content.decode('utf8').replace(\"'\", '\"')\n",
        "finaljson = json.loads(jsonout)\n",
        "\n",
        "print (\"Wait for the server's answer....\")\n",
        "\n",
        "while(finaljson[\"values\"][0][\"status\"]==\"queued\"):\n",
        "  status=requests.get(hostname+\"/optimize/\"+token+\"/status\",auth=HTTPBasicAuth(user, password))\n",
        "  jsonout = status.content.decode('utf8').replace(\"'\", '\"')\n",
        "  finaljson = json.loads(jsonout)\n",
        "\n",
        "\n",
        "if(finaljson[\"values\"][0][\"status\"]==\"failed\"):\n",
        "  print(\"The request failed , please try again.\")\n",
        "else:\n",
        "  #Get the request results\n",
        "  finalResp=requests.get(hostname+\"/optimize/\"+token,auth=HTTPBasicAuth(user, password))\n",
        "  jsonout = finalResp.content.decode('utf8').replace(\"'\", '\"')\n",
        "  finaljson = json.loads(jsonout)\n",
        "  print(finaljson)\n",
        "\n"
      ],
      "execution_count": 0,
      "outputs": [
        {
          "output_type": "stream",
          "text": [
            "Please enter the numbe of images to be processed!2\n",
            "Please enter the link of the image 1https://img.lotlinx.com/vdn/7416/jeep_wrangler%20unlimited_2014_1C4BJWFG3EL326863_7416_2_339187295.jpg\n",
            "Please enter the link of the image 2https://img.lotlinx.com/vdn/7416/jeep_wrangler%20unlimited_2014_1C4BJWFG3EL326863_7416_2_339187295.jpg\n",
            "Wait for the server's answer....\n",
            "{'values': [{'dealerId': '20182018', 'optimizedVehicleImageSets': [{'id': 123, 'optimizedImageSet': [{'imageId': 0, 'imageUrl': 'https://img.lotlinx.com/vdn/7416/jeep_wrangler%20unlimited_2014_1C4BJWFG3EL326863_7416_2_339187295.jpg', 'modifiedUrl': 'http://lotlinx-ml-images.s3.amazonaws.com/front/jeep_wrangler%2520unlimited_2014_1C4BJWFG3EL326863_7416_2_339187295.png', 'classification': 'front', 'text': '', 'color': [175, 175, 143], 'points': [[578, 68], [1068, 600]]}, {'imageId': 1, 'imageUrl': 'https://img.lotlinx.com/vdn/7416/jeep_wrangler%20unlimited_2014_1C4BJWFG3EL326863_7416_2_339187295.jpg', 'modifiedUrl': 'http://lotlinx-ml-images.s3.amazonaws.com/front/jeep_wrangler%2520unlimited_2014_1C4BJWFG3EL326863_7416_2_339187295.png', 'classification': 'front', 'text': '', 'color': [175, 175, 143], 'points': [[578, 68], [1068, 600]]}]}]}]}\n"
          ],
          "name": "stdout"
        }
      ]
    }
  ]
}